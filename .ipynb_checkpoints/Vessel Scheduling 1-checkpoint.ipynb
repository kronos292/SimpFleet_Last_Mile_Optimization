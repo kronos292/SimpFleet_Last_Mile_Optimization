{
 "cells": [
  {
   "cell_type": "code",
   "execution_count": null,
   "metadata": {},
   "outputs": [],
   "source": [
    "from datetime import datetime\n",
    "from datetime import timedelta\n",
    "from pandas import DataFrame, read_csv\n",
    "import pandas as pd\n",
    "import plotly.figure_factory as ff\n",
    "import plotly.graph_objects as go\n",
    "\n",
    "file = '[BVPS]_Time_range_to_avoid_for_Ship_Supply_[20190731][1000].xls'\n",
    "df = pd.read_excel(file)\n",
    "\n",
    "for header in ['ETB', 'ETU', 'QC Seq Time From', 'QC Seq Time To']:\n",
    "    for i in range(len(df[header])):\n",
    "        day = int(df[header][i][:2])\n",
    "        month = int(df[header][i][3:5])\n",
    "        year = int(df[header][i][6:10])\n",
    "        hour = int(df[header][i][11:13])\n",
    "        minute = int(df[header][i][14:16])\n",
    "        second = int(df[header][i][17:19])\n",
    "        df[header][i]= datetime(year, month, day, hour, minute, second, 0)\n",
    "\n",
    "df = df.drop(columns=['Terminal', 'Voyage', 'Berthing Sequence']);\n",
    "\n",
    "df['timeBefore'] = df['QC Seq Time From'] - df['ETB']\n",
    "\n",
    "df['timeAfter'] = df['ETU'] - df['QC Seq Time To'] \n",
    "\n",
    "df['Quantity'] = 2\n",
    "\n",
    "df['Type']='Berthing'\n",
    "\n",
    "df['Note']=False"
   ]
  },
  {
   "cell_type": "code",
   "execution_count": null,
   "metadata": {},
   "outputs": [],
   "source": [
    "JP_LOADING_TIME = timedelta(hours=1)\n",
    "TRAVEL_TIME = timedelta(hours=1)\n",
    "MAX_JP_WAIT_TIME = timedelta(hours=1)\n",
    "PSA_LOADING_TIME= timedelta(hours=2)\n",
    "WAREHOUSE_LOADING = timedelta(minutes=30)\n",
    "DRIVER_HOURS= timedelta(hours=12)\n",
    "MAX_CARGO = 12"
   ]
  },
  {
   "cell_type": "code",
   "execution_count": null,
   "metadata": {},
   "outputs": [],
   "source": [
    "df"
   ]
  },
  {
   "cell_type": "code",
   "execution_count": null,
   "metadata": {},
   "outputs": [],
   "source": [
    "loadBefore = df[df['timeBefore'].apply(lambda o:o.seconds/60 > 90)]\n",
    "\n",
    "loadAfter = df[df['timeBefore'].apply(lambda o:o.seconds/60 <= 90)]\n",
    "\n",
    "#Delivery for Load Before\n",
    "loadBefore['deliveryTime'] = loadBefore['QC Seq Time From'] - timedelta(hours=2)\n",
    "\n",
    "loadBefore.sort_values(by=['QC Seq Time From','timeBefore'], inplace=True)\n",
    "\n",
    "loadBefore = loadBefore.reset_index()\n",
    "\n",
    "def checkDeliveryTimeBefore():\n",
    "    updated = False;\n",
    "    for index, row in loadBefore.iterrows():\n",
    "        if updated:\n",
    "            return checkDeliveryTimeBefore()\n",
    "        else:\n",
    "            if index == 0:\n",
    "                continue;\n",
    "            if (loadBefore['deliveryTime'][index] - PSA_LOADING_TIME) < loadBefore['deliveryTime'][index-1]:\n",
    "                loadBefore['deliveryTime'][index-1] = loadBefore['deliveryTime'][index] - PSA_LOADING_TIME\n",
    "                updated = True;\n",
    "    updated = False\n",
    "checkDeliveryTimeBefore()\n",
    "\n",
    "loadBefore['Note'] = loadBefore['deliveryTime'] < loadBefore['ETB']\n"
   ]
  },
  {
   "cell_type": "code",
   "execution_count": null,
   "metadata": {},
   "outputs": [],
   "source": [
    "loadAfter.sort_values(by=['timeAfter'], inplace=True, ascending= True)\n",
    "loadAfter.sort_values(by=['QC Seq Time To'], inplace=True)\n",
    "loadAfter = loadAfter.reset_index()\n",
    "\n",
    "# Do Delivery for Load After\n",
    "loadAfter['deliveryTime'] = loadAfter['QC Seq Time To']\n",
    "\n",
    "if loadAfter['deliveryTime'][0] < (loadBefore['deliveryTime'][len(loadBefore['deliveryTime'])-1] + PSA_LOADING_TIME):\n",
    "    loadAfter['deliveryTime'][0] = loadBefore['deliveryTime'][len(loadBefore['deliveryTime'])-1] + PSA_LOADING_TIME\n",
    "\n",
    "def checkDeliveryTimeAfter():\n",
    "    updated = False;\n",
    "    for index, row in loadAfter.iterrows():\n",
    "        if updated:\n",
    "            return checkDeliveryTimeAfter()\n",
    "        else:\n",
    "            if index == len(loadAfter)-1:\n",
    "                continue;\n",
    "            if (loadAfter['deliveryTime'][index] + PSA_LOADING_TIME) > loadAfter['deliveryTime'][index+1]:\n",
    "                loadAfter['deliveryTime'][index+1] = loadAfter['deliveryTime'][index] + PSA_LOADING_TIME\n",
    "                updated = True;\n",
    "    updated = False\n",
    "checkDeliveryTimeAfter()\n",
    "\n",
    "loadAfter['Note'] = (loadAfter['ETU']-loadAfter['deliveryTime']).apply(lambda o:o.seconds/60 < 90) | (loadAfter['ETU']<loadAfter['deliveryTime'])\n"
   ]
  },
  {
   "cell_type": "code",
   "execution_count": null,
   "metadata": {},
   "outputs": [],
   "source": [
    "df_sorted = pd.concat([loadBefore, loadAfter])"
   ]
  },
  {
   "cell_type": "code",
   "execution_count": null,
   "metadata": {},
   "outputs": [],
   "source": [
    "df_sorted.sort_values(by=['deliveryTime'], inplace=True)\n",
    "df_sorted = df_sorted.reset_index()\n",
    "df_sorted=df_sorted.drop(columns=['index', 'level_0'])"
   ]
  },
  {
   "cell_type": "code",
   "execution_count": null,
   "metadata": {},
   "outputs": [],
   "source": [
    "df_able = df_sorted[df_sorted['Note'] == False]\n",
    "df_unable= df_sorted[df_sorted['Note']]\n",
    "\n",
    "def getDriverWorkPeriod(hours, maxCargo):\n",
    "    dict_driver = []\n",
    "    df_able['Assign'] = 'Wait'\n",
    "    assigned = 0\n",
    "    driver = 0\n",
    "    #& cargo < maxCargo\n",
    "    while assigned < len(df_able):\n",
    "        driver += 1\n",
    "        name = 'Driver ' + str(driver)\n",
    "        firstDelivery = df_able['deliveryTime'][assigned]\n",
    "        leaveWarehouse = firstDelivery - timedelta(minutes=45)\n",
    "        endWork = leaveWarehouse + timedelta(hours=hours)\n",
    "        leavePort = endWork - timedelta(minutes=45)\n",
    "        cargo = 0\n",
    "        for index, row in df_able.iterrows():\n",
    "            if (cargo + df_able['Quantity'][index]) <= maxCargo:\n",
    "                if (df_able['Assign'][index] == 'Wait') & (row['deliveryTime'] < leavePort):\n",
    "                    df_able['Assign'][index] = 'Driver ' + str(driver)\n",
    "                    cargo += df_able['Quantity'][index] \n",
    "                    assigned +=1\n",
    "        dict = {'Name':name,\n",
    "                'First Deliver':firstDelivery,\n",
    "                'Leave Warehouse':leaveWarehouse,\n",
    "                'End Work':endWork,\n",
    "                'Leave Port':leavePort,\n",
    "                'Cargo':cargo\n",
    "               }\n",
    "        dict_driver.append(dict)\n",
    "    df_driver=pd.DataFrame(dict_driver)\n",
    "    return df_driver\n",
    "df_driver = getDriverWorkPeriod(DRIVER_HOURS,MAX_CARGO)\n",
    "df_driver"
   ]
  },
  {
   "cell_type": "code",
   "execution_count": null,
   "metadata": {},
   "outputs": [],
   "source": [
    "df_able"
   ]
  },
  {
   "cell_type": "code",
   "execution_count": null,
   "metadata": {},
   "outputs": [],
   "source": [
    "priority = df_sorted[(df_sorted['timeBefore'].apply(lambda o:o.seconds/60 <= 90) & df_sorted['timeAfter'].apply(lambda o:o.seconds/60 <= 90)) | df_sorted['Note']]\n",
    "def printDetails():\n",
    "    print('Please take note of the following Vessel which may not have enough time to deliver:')\n",
    "    for index, row in priority.iterrows():\n",
    "        print(row['Vessel Name'])\n",
    "    print('Please leave at: ' + (df_able['ETB'][0]+timedelta(hours=-2)).strftime(\"%d/%m/%Y, %H:%M:%S\"))\n",
    "    print('Deliver to the following sequence:')\n",
    "    for index, row in df_able.iterrows():\n",
    "        print(str(index+1) + '. '+ row['Assign']+ ' ' + row['Vessel Name'] + ' ' + row['deliveryTime'].strftime(\"%d/%m/%Y, %H:%M:%S\"))\n",
    "\n",
    "printDetails()"
   ]
  },
  {
   "cell_type": "code",
   "execution_count": null,
   "metadata": {},
   "outputs": [],
   "source": [
    "data=[]\n",
    "for index, row in df_able.iterrows():\n",
    "    Berth = dict(Task=row['Vessel Name'], Start=row['ETB'], Finish=row['ETU'], Resource='Berth')\n",
    "    data.append(Berth)\n",
    "    QC = dict(Task=row['Vessel Name'], Start=row['QC Seq Time From'], Finish=row['QC Seq Time To'], Resource='QC')\n",
    "    data.append(QC)\n",
    "    Delivery = dict(Task=row['Vessel Name'], Start=row['deliveryTime'], Finish=(row['deliveryTime'] + timedelta(minutes=5)), Resource='Delivery')\n",
    "    data.append(Delivery)\n",
    "for index, row in df_driver.iterrows():\n",
    "    Driver = dict(Task=row['Name'], Start=row['Leave Warehouse'], Finish=row['End Work'], Resource='Driver')\n",
    "    data.append(Driver)\n",
    "\n",
    "colors = {'Berth': 'rgb(171, 171, 171)',\n",
    "          'QC': 'rgb(50, 129, 168)',\n",
    "          'Delivery': 'rgb(255, 255, 255)',\n",
    "          'Driver': 'rgb(252, 186, 3)'\n",
    "         }\n",
    "\n",
    "fig = ff.create_gantt(data, group_tasks=True, colors=colors, index_col='Resource', show_colorbar=True)\n",
    "fig.show()"
   ]
  }
 ],
 "metadata": {
  "kernelspec": {
   "display_name": "Python 3",
   "language": "python",
   "name": "python3"
  },
  "language_info": {
   "codemirror_mode": {
    "name": "ipython",
    "version": 3
   },
   "file_extension": ".py",
   "mimetype": "text/x-python",
   "name": "python",
   "nbconvert_exporter": "python",
   "pygments_lexer": "ipython3",
   "version": "3.7.3"
  }
 },
 "nbformat": 4,
 "nbformat_minor": 2
}
